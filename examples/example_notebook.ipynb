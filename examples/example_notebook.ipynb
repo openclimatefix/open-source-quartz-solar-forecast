{
 "cells": [
  {
   "cell_type": "markdown",
   "metadata": {},
   "source": [
    "# Example Notebook to show how to predict solar power generation"
   ]
  },
  {
   "cell_type": "markdown",
   "metadata": {},
   "source": [
    "Make sure to have installed the quart_solar_forecast package: \n",
    "```\n",
    "pip install quartz-solar-forecast\n",
    "```"
   ]
  },
  {
   "cell_type": "markdown",
   "metadata": {},
   "source": [
    "## Setup"
   ]
  },
  {
   "cell_type": "code",
   "execution_count": null,
   "metadata": {},
   "outputs": [],
   "source": [
    "# Import forecast script and PVSite class.\n",
    "# ignore future warnings\n",
    "import warnings\n",
    "from datetime import datetime, timedelta\n",
    "\n",
    "# Import matplotlib and plotly for plotting.\n",
    "import plotly.express as px\n",
    "from plotly.subplots import make_subplots\n",
    "\n",
    "from quartz_solar_forecast.data import get_nwp\n",
    "from quartz_solar_forecast.forecast import run_forecast\n",
    "from quartz_solar_forecast.pydantic_models import PVSite\n",
    "\n",
    "warnings.simplefilter(\"ignore\", category=FutureWarning)"
   ]
  },
  {
   "cell_type": "markdown",
   "metadata": {},
   "source": [
    "## Make Predictions\n",
    "\n",
    "To make predictions, we first need to specify the location and the capacity of the panel, for which we want to make predictions. This is done using the class *PVSite*. The location is given in latitude between -90 and 90 and longitude between -180 and 180 degrees.\n",
    "\n",
    "This site object is then used to make predictions for a specific time for 48 hours ahead. In the example, the date is chosen as the current time.\n",
    "\n",
    "Note, that the prediction may take a couple of minutes."
   ]
  },
  {
   "cell_type": "code",
   "execution_count": null,
   "metadata": {},
   "outputs": [],
   "source": [
    "# make a pv site object\n",
    "site = PVSite(latitude=51.75, longitude=-1.25, capacity_kwp=1.25)\n",
    "\n",
    "# run model for today\n",
    "predictions_df = run_forecast(site)"
   ]
  },
  {
   "cell_type": "markdown",
   "metadata": {},
   "source": [
    "The result is a pandas data frame with the solar energy predicted (\"power_wh\") for each time step in a 15 minute interval from the given start date on."
   ]
  },
  {
   "cell_type": "code",
   "execution_count": null,
   "metadata": {},
   "outputs": [],
   "source": [
    "predictions_df"
   ]
  },
  {
   "cell_type": "markdown",
   "metadata": {},
   "source": [
    "We can plot the predictions."
   ]
  },
  {
   "cell_type": "code",
   "execution_count": null,
   "metadata": {},
   "outputs": [],
   "source": [
    "# Create an interactive plot of the forecast using plotly.\n",
    "fig = px.line(\n",
    "    predictions_df.reset_index().rename(columns={\"index\": \"date\"}),\n",
    "    x=\"date\",\n",
    "    y=\"power_kw\",\n",
    "    labels={\"power_kw\": \"Power (kw)\"},\n",
    "    title=\"Solar Energy Prediction\",\n",
    ")\n",
    "fig.show()"
   ]
  },
  {
   "cell_type": "markdown",
   "metadata": {},
   "source": [
    "Let's consider a second example for a start time further in the past."
   ]
  },
  {
   "cell_type": "code",
   "execution_count": null,
   "metadata": {},
   "outputs": [],
   "source": [
    "# Run the forecast for a specific initial timestamp.\n",
    "# This generates a forecast at 15 minute intervals for 48 hours.\n",
    "ts = datetime.today() - timedelta(weeks=3)\n",
    "site = PVSite(latitude=51.75, longitude=-1.25, capacity_kwp=1.25)\n",
    "\n",
    "predictions_df = run_forecast(site, ts=ts)"
   ]
  },
  {
   "cell_type": "markdown",
   "metadata": {},
   "source": [
    "In this case, since the requested date lies more than 3 months in the past, we get a notification that different meterological data was used to make the predictions."
   ]
  },
  {
   "cell_type": "code",
   "execution_count": null,
   "metadata": {},
   "outputs": [],
   "source": [
    "predictions_df"
   ]
  },
  {
   "cell_type": "code",
   "execution_count": null,
   "metadata": {},
   "outputs": [],
   "source": [
    "# Create an interactive plot of the forecast using plotly.\n",
    "fig = px.line(\n",
    "    predictions_df.reset_index().rename(columns={\"index\": \"date\"}),\n",
    "    x=\"date\",\n",
    "    y=\"power_kw\",\n",
    "    labels={\"power_kw\": \"Power (kw)\"},\n",
    "    title=\"Solar Energy Prediction\",\n",
    ")\n",
    "fig.show()"
   ]
  },
  {
   "cell_type": "markdown",
   "metadata": {},
   "source": [
    "## Visualize meteorological input data\n",
    "\n",
    "Additionally we can load and visualize the meteorological data used for the predictions. We can use the *get_nwp* function. This function returns the data as an *xarray*."
   ]
  },
  {
   "cell_type": "code",
   "execution_count": null,
   "metadata": {},
   "outputs": [],
   "source": [
    "met_data = get_nwp(site=site, ts=ts, nwp_source=\"icon\")\n",
    "met_data"
   ]
  },
  {
   "cell_type": "markdown",
   "metadata": {},
   "source": [
    "The meterolocial variables used are:\n",
    "\n",
    "```\n",
    "variables = [\n",
    "        \"temperature_2m\",\n",
    "        \"precipitation\",\n",
    "        \"cloud_cover_low\",\n",
    "        \"cloud_cover_mid\",\n",
    "        \"cloud_cover_high\",\n",
    "        \"wind_speed_10m\",\n",
    "        \"shortwave_radiation\",\n",
    "        \"direct_radiation\"\n",
    "    ]\n",
    "```\n",
    "\n",
    "The variable names in the returned array are abbreviated as:\n",
    "\n",
    "```\n",
    "xarray_variables = [\"t\",\n",
    "                \"prate\",\n",
    "                \"lcc\",\n",
    "                \"mcc\",\n",
    "                \"hcc\",\n",
    "                \"si10\",\n",
    "                \"dswrf\",\n",
    "                \"dlwrf\"\n",
    "  ]\n",
    "```\n"
   ]
  },
  {
   "cell_type": "markdown",
   "metadata": {},
   "source": [
    "Add the data to the predictions dataframe."
   ]
  },
  {
   "cell_type": "code",
   "execution_count": null,
   "metadata": {},
   "outputs": [],
   "source": [
    "variables = [\n",
    "    \"temperature_2m\",\n",
    "    \"precipitation\",\n",
    "    \"cloud_cover_low\",\n",
    "    \"cloud_cover_mid\",\n",
    "    \"cloud_cover_high\",\n",
    "    \"wind_speed_10m\",\n",
    "    \"shortwave_radiation\",\n",
    "    \"direct_radiation\",\n",
    "]\n",
    "\n",
    "for i, var in enumerate(variables):\n",
    "    predictions_df[var] = met_data.icon.variable[:, i]"
   ]
  },
  {
   "cell_type": "code",
   "execution_count": null,
   "metadata": {},
   "outputs": [],
   "source": [
    "predictions_df"
   ]
  },
  {
   "cell_type": "code",
   "execution_count": null,
   "metadata": {},
   "outputs": [],
   "source": [
    "# reset index and rename index column to date\n",
    "predictions_df = predictions_df.reset_index().rename(columns={\"index\": \"date\"})"
   ]
  },
  {
   "cell_type": "code",
   "execution_count": null,
   "metadata": {},
   "outputs": [],
   "source": [
    "figures = [\n",
    "    px.line(predictions_df, x=\"date\", y=\"power_kw\"),\n",
    "    px.line(predictions_df, x=\"date\", y=\"temperature_2m\"),\n",
    "    px.line(predictions_df, x=\"date\", y=\"precipitation\"),\n",
    "    px.line(predictions_df, x=\"date\", y=\"cloud_cover_low\"),\n",
    "    px.line(predictions_df, x=\"date\", y=\"cloud_cover_mid\"),\n",
    "    px.line(predictions_df, x=\"date\", y=\"cloud_cover_high\"),\n",
    "    px.line(predictions_df, x=\"date\", y=\"wind_speed_10m\"),\n",
    "    px.line(\n",
    "        predictions_df,\n",
    "        x=\"date\",\n",
    "        y=\"shortwave_radiation\",\n",
    "        labels={\"shortwave_radiation\": \"Shortwave Radiation\"},\n",
    "    ),\n",
    "    px.line(predictions_df, x=\"date\", y=\"direct_radiation\"),\n",
    "]\n",
    "\n",
    "fig = make_subplots(\n",
    "    rows=len(figures),\n",
    "    cols=1,\n",
    "    subplot_titles=(\n",
    "        \"Power (kw)\",\n",
    "        \"Temperature\",\n",
    "        \"Precipitation\",\n",
    "        \"Cloud Cover (Low)\",\n",
    "        \"Cloud Cover (Mid)\",\n",
    "        \"Cloud Cover (High)\",\n",
    "        \"Wind Speed (10m)\",\n",
    "        \"Shortwave Radiation\",\n",
    "        \"Direct Radiation\",\n",
    "    ),\n",
    ")\n",
    "fig.update_layout(height=1400, width=800, title_text=\"Meterological Variables\")\n",
    "\n",
    "for i, figure in enumerate(figures):\n",
    "    for trace in range(len(figure[\"data\"])):\n",
    "        fig.append_trace(figure[\"data\"][trace], row=i + 1, col=1)\n",
    "\n",
    "\n",
    "fig.show();"
   ]
  },
  {
   "cell_type": "markdown",
   "metadata": {},
   "source": [
    "## Use the XGBoost model"
   ]
  },
  {
   "cell_type": "code",
   "execution_count": null,
   "metadata": {},
   "outputs": [],
   "source": [
    "ts = datetime.today() - timedelta(weeks=3)\n",
    "site = PVSite(latitude=51.75, longitude=-1.25, capacity_kwp=1.25)\n",
    "\n",
    "predictions_df = run_forecast(site, model=\"xgb\", ts=ts)"
   ]
  },
  {
   "cell_type": "code",
   "execution_count": null,
   "metadata": {},
   "outputs": [],
   "source": [
    "predictions_df"
   ]
  },
  {
   "cell_type": "code",
   "execution_count": null,
   "metadata": {},
   "outputs": [],
   "source": [
    "# Create an interactive plot of the forecast using plotly.\n",
    "fig = px.line(\n",
    "    predictions_df.reset_index().rename(columns={\"index\": \"date\"}),\n",
    "    x=\"date\",\n",
    "    y=\"power_kw\",\n",
    "    labels={\"power_kw\": \"Power (kw)\"},\n",
    "    title=\"Solar Energy Prediction\",\n",
    ")\n",
    "fig.show()"
   ]
  }
 ],
 "metadata": {
  "kernelspec": {
   "display_name": "quartz_open",
   "language": "python",
   "name": "python3"
  },
  "language_info": {
   "codemirror_mode": {
    "name": "ipython",
    "version": 3
   },
   "file_extension": ".py",
   "mimetype": "text/x-python",
   "name": "python",
   "nbconvert_exporter": "python",
   "pygments_lexer": "ipython3",
   "version": "3.10.12"
  }
 },
 "nbformat": 4,
 "nbformat_minor": 2
}
