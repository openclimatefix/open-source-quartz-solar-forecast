{
 "cells": [
  {
   "cell_type": "markdown",
   "metadata": {},
   "source": [
    "## Data Analysis of TZ-SAM  dataset\n",
    "\n",
    "In this Jupyter Notebook, we will explore the TZ-SAM dataset to uncover key statistics, patterns, and relationships, thereby gainging valuable insights from it"
   ]
  },
  {
   "cell_type": "markdown",
   "metadata": {},
   "source": [
    "### Importing Required Libraries for Data Analysis \n"
   ]
  },
  {
   "cell_type": "code",
   "execution_count": null,
   "metadata": {},
   "outputs": [],
   "source": [
    "import cartopy.crs as ccrs\n",
    "import cartopy.feature as cfeature\n",
    "import matplotlib.pyplot as plt\n",
    "import numpy as np\n",
    "import pandas as pd"
   ]
  },
  {
   "cell_type": "markdown",
   "metadata": {},
   "source": [
    "### Why Use Analysis Over Raw CSV?\n",
    "\n",
    "The analysis version has been pre-processed and enriched to remove noise, perform feature engineering, and handle data cleaning. This improves efficiency during exploration and model building compared to using the raw CSV directly."
   ]
  },
  {
   "cell_type": "code",
   "execution_count": null,
   "metadata": {},
   "outputs": [],
   "source": [
    "# Importing the analysis dataset\n",
    "df = pd.read_csv(\"../TZ-SAM/tz-sam-runs_2024-Q4_outputs_external_analysis_polygons.csv\")"
   ]
  },
  {
   "cell_type": "markdown",
   "metadata": {},
   "source": [
    "## Data Exploration"
   ]
  },
  {
   "cell_type": "code",
   "execution_count": null,
   "metadata": {},
   "outputs": [],
   "source": [
    "df"
   ]
  },
  {
   "cell_type": "code",
   "execution_count": null,
   "metadata": {},
   "outputs": [],
   "source": [
    "df.head()"
   ]
  },
  {
   "cell_type": "code",
   "execution_count": null,
   "metadata": {},
   "outputs": [],
   "source": [
    "df.sample()"
   ]
  },
  {
   "cell_type": "markdown",
   "metadata": {},
   "source": [
    "Dropping cluster_id column since it doesnt give any significant information"
   ]
  },
  {
   "cell_type": "code",
   "execution_count": null,
   "metadata": {},
   "outputs": [],
   "source": [
    "df.drop(columns=[\"cluster_id\"], inplace=True)"
   ]
  },
  {
   "cell_type": "markdown",
   "metadata": {},
   "source": [
    "Analyzing Datatypes of the variables"
   ]
  },
  {
   "cell_type": "code",
   "execution_count": null,
   "metadata": {},
   "outputs": [],
   "source": [
    "print(\"Column names:\", df.columns.to_list())\n",
    "print(\"\\nData types:\\n\", df.dtypes)"
   ]
  },
  {
   "cell_type": "markdown",
   "metadata": {},
   "source": [
    "Checking for null values in the columns"
   ]
  },
  {
   "cell_type": "code",
   "execution_count": null,
   "metadata": {},
   "outputs": [],
   "source": [
    "print(\"Total null values per column:\")\n",
    "print(df.isnull().sum())"
   ]
  },
  {
   "cell_type": "markdown",
   "metadata": {},
   "source": [
    "#### Missing Values in `constructed_after`\n",
    "\n",
    "From the above analysis, we observe that the `constructed_after` column contains a significant number of missing values (53,766 missing entries). This indicates that a substantial portion of the \"after construction\" dates were not recorded.\n",
    "\n",
    "#### Key Observations:\n",
    "- **Pattern of Missingness**: The missing values in this column are not random. Instead, they suggest a structural pattern, likely due to the unavailability of these specific dates during data collection or their omission during recording.\n",
    "\n",
    "The main reason behind these missing values might be the starting construction date was never documented in most of the cases\n"
   ]
  },
  {
   "cell_type": "markdown",
   "metadata": {},
   "source": [
    "Sorting The number of Solar Plants on the basis of Country wise count"
   ]
  },
  {
   "cell_type": "code",
   "execution_count": null,
   "metadata": {},
   "outputs": [],
   "source": [
    "# Convert constructed_after to datetime, forcing invalid entries to become NaN\n",
    "df[\"constructed_after\"] = pd.to_datetime(df[\"constructed_after\"], errors=\"coerce\")\n",
    "\n",
    "# Group by country and calculate count, min, and max\n",
    "grouped = df.groupby(\"country\")[\"constructed_after\"].agg([\"count\", \"min\", \"max\"])\n",
    "\n",
    "# Rename 'count' to 'number of solar facilities'\n",
    "grouped.rename(columns={\"count\": \"number of solar facilities\"}, inplace=True)\n",
    "\n",
    "# Sort by 'number of solar facilities'\n",
    "grouped_sorted = grouped.sort_values(by=\"number of solar facilities\", ascending=False)\n",
    "\n",
    "display(grouped_sorted)"
   ]
  },
  {
   "cell_type": "markdown",
   "metadata": {},
   "source": [
    "### Key Observations from the Dataframe\n",
    "\n",
    "#### **Global Leaders**\n",
    "- **Top 5 Countries**:  \n",
    "    - **China**, **United States**, **Japan**, **Germany**, and **India** dominate the global solar energy market with the highest number of solar facilities.\n",
    "    \n",
    "####  **China's Dominance**\n",
    "- **Leading the Pack**:  \n",
    "    - China stands out with **10,165 solar facilities**, more than **double** the number in the United States (**5,064**), which ranks second.\n",
    "\n",
    "#### **Temporal Range**\n",
    "- **Historical Coverage**:  \n",
    "    - The dataset spans solar facilities constructed between **early 2017** and **mid-2024**, providing a comprehensive record of over **7 years**."
   ]
  },
  {
   "cell_type": "markdown",
   "metadata": {},
   "source": [
    "Describing the dataset"
   ]
  },
  {
   "cell_type": "code",
   "execution_count": null,
   "metadata": {},
   "outputs": [],
   "source": [
    "df.describe()"
   ]
  },
  {
   "cell_type": "markdown",
   "metadata": {},
   "source": [
    "### Insights from describing the dataset\n",
    "\n",
    "#### Capacity Analysis\n",
    "- **Skewed Distribution**: The dataset shows a highly skewed distribution of power plant capacities, with a mean of 9.81 MW but a median of only 2.11 MW. This indicates that most plants are relatively small.\n",
    "- **Dominance of Small Units**: 75% of plants have capacities ≤5.61 MW, suggesting a decentralized energy infrastructure.\n",
    "- **Extreme Outliers**: The presence of a maximum capacity of 6,031 MW reveals rare mega-plants, likely nuclear or hydropower, which skew the average.\n",
    "\n",
    "#### Geographic Patterns\n",
    "- **Latitude Concentration**: Plants are concentrated around temperate latitudes, with a mean latitude of 35°N. The median latitude is approximately 37.40°N, indicating a focus on regions like the Mediterranean and Southern United States.\n",
    "- **Longitude Spread**: The dataset covers a wide range of longitudes (-176.19° to 177.98°), confirming global coverage. The median longitude is 27.44°E, aligning with Eastern Europe/Middle East.\n",
    "- **Regional Clusters**: There are notable clusters in Western Europe (around 6.97°E) and East/Southeast Asia (around 115.92°E).\n",
    "\n",
    "#### Infrastructure Implications\n",
    "- **Diversified Energy Mix**: The combination of numerous small-scale installations (e.g., solar, wind) with few large baseload plants suggests a diversified energy strategy.\n",
    "- **Alignment with Demographics and Resources**: The geographic distribution aligns with population centers, renewable resource availability, and historical industrialization trends.\n"
   ]
  },
  {
   "cell_type": "markdown",
   "metadata": {},
   "source": [
    "## Data Cleaning"
   ]
  },
  {
   "cell_type": "markdown",
   "metadata": {},
   "source": [
    "#### Handling Missing Data\n",
    "from the above derivations we can see that the cons|tructed_after column has signigicant null values\n",
    "The column is not critical though and dropping the column is the best way to deal with it\n"
   ]
  },
  {
   "cell_type": "markdown",
   "metadata": {},
   "source": [
    "#### Dropping constructed_after column\n"
   ]
  },
  {
   "cell_type": "code",
   "execution_count": null,
   "metadata": {},
   "outputs": [],
   "source": [
    "df.drop(columns=[\"constructed_after\"], inplace=True)"
   ]
  },
  {
   "cell_type": "code",
   "execution_count": null,
   "metadata": {},
   "outputs": [],
   "source": [
    "df"
   ]
  },
  {
   "cell_type": "markdown",
   "metadata": {},
   "source": [
    "#### Removing Duplicate Rows if there are any present"
   ]
  },
  {
   "cell_type": "code",
   "execution_count": null,
   "metadata": {},
   "outputs": [],
   "source": [
    "initial_count = len(df)\n",
    "df.drop_duplicates(inplace=True)\n",
    "print(f\"Dropped {initial_count - len(df)} duplicate rows.\")"
   ]
  },
  {
   "cell_type": "code",
   "execution_count": null,
   "metadata": {},
   "outputs": [],
   "source": [
    "df"
   ]
  },
  {
   "cell_type": "markdown",
   "metadata": {},
   "source": [
    "#### Set up the plot style"
   ]
  },
  {
   "cell_type": "code",
   "execution_count": null,
   "metadata": {},
   "outputs": [],
   "source": [
    "plt.style.use(\"ggplot\")"
   ]
  },
  {
   "cell_type": "markdown",
   "metadata": {},
   "source": [
    "\n",
    "#### Histogram for capacity_mw (focused on 0-10 range)\n"
   ]
  },
  {
   "cell_type": "code",
   "execution_count": null,
   "metadata": {},
   "outputs": [],
   "source": [
    "plt.figure(figsize=(10, 6))\n",
    "plt.hist(df[\"capacity_mw\"], bins=50, range=(0, 10), edgecolor=\"black\")\n",
    "plt.title(\"Distribution of Solar Facility Capacity (0-10 MW)\", fontsize=16)\n",
    "plt.xlabel(\"Capacity (MW)\", fontsize=12)\n",
    "plt.ylabel(\"Count\", fontsize=12)\n",
    "plt.tight_layout()\n",
    "plt.show()"
   ]
  },
  {
   "cell_type": "markdown",
   "metadata": {},
   "source": [
    "Most of the Solar Cells Wattage lies around 0-10 MW"
   ]
  },
  {
   "cell_type": "markdown",
   "metadata": {},
   "source": [
    "#### Histogram for latitude"
   ]
  },
  {
   "cell_type": "code",
   "execution_count": null,
   "metadata": {},
   "outputs": [],
   "source": [
    "plt.figure(figsize=(10, 6))\n",
    "plt.hist(df[\"latitude\"], bins=50, edgecolor=\"black\")\n",
    "plt.title(\"Distribution of Solar Facility Latitudes\", fontsize=16)\n",
    "plt.xlabel(\"Latitude\", fontsize=12)\n",
    "plt.ylabel(\"Count\", fontsize=12)\n",
    "plt.tight_layout()\n",
    "plt.show()"
   ]
  },
  {
   "cell_type": "markdown",
   "metadata": {},
   "source": [
    "Most of the solar cells lie around 30-40 since most sunlight falls on that area "
   ]
  },
  {
   "cell_type": "markdown",
   "metadata": {},
   "source": [
    "#### Histogram for Solar Facility longitude"
   ]
  },
  {
   "cell_type": "code",
   "execution_count": null,
   "metadata": {},
   "outputs": [],
   "source": [
    "plt.figure(figsize=(10, 6))\n",
    "plt.hist(df[\"longitude\"], bins=50, edgecolor=\"black\")\n",
    "plt.title(\"Distribution of Solar Facility Longitudes\", fontsize=16)\n",
    "plt.xlabel(\"Longitude\", fontsize=12)\n",
    "plt.ylabel(\"Count\", fontsize=12)\n",
    "plt.tight_layout()\n",
    "plt.show()"
   ]
  },
  {
   "cell_type": "markdown",
   "metadata": {},
   "source": [
    "The histogram shows the distribution of solar facilities by longitude, highlighting three major clusters:\n",
    "\n",
    "Near 0° Longitude: Over 10,000 facilities, likely in Europe and Africa.\n",
    "\n",
    "100-120° Longitude: Around 9,000 facilities, likely in East Asia (e.g., China).\n",
    "\n",
    "-80° to -70° Longitude: Significant presence in North America.\n",
    "\n",
    "Regions between clusters (e.g., oceans) have minimal facilities. Deployment aligns with landmass, solar resources, and supportive policies."
   ]
  },
  {
   "cell_type": "markdown",
   "metadata": {},
   "source": [
    "#### Line plot for construction dates"
   ]
  },
  {
   "cell_type": "code",
   "execution_count": null,
   "metadata": {},
   "outputs": [],
   "source": [
    "plt.figure(figsize=(12, 6))\n",
    "df[\"constructed_before\"] = pd.to_datetime(df[\"constructed_before\"])\n",
    "df[\"construction_year\"] = df[\"constructed_before\"].dt.year\n",
    "year_counts = df[\"construction_year\"].value_counts().sort_index()\n",
    "plt.plot(year_counts.index, year_counts.values, marker=\"o\")\n",
    "plt.title(\"Number of Solar Facilities Constructed by Year\", fontsize=16)\n",
    "plt.xlabel(\"Year\", fontsize=12)\n",
    "plt.ylabel(\"Number of Facilities\", fontsize=12)\n",
    "plt.grid(True)\n",
    "plt.tight_layout()\n",
    "plt.show()"
   ]
  },
  {
   "cell_type": "markdown",
   "metadata": {},
   "source": [
    "#### The graph shows the annual trend in solar facility construction from 2017 to 2024:\n",
    "-2017 Peak: Over 30,000 facilities constructed, the highest in the dataset.\n",
    "\n",
    "-2018 Decline: Sharp drop to ~10,000 facilities, likely due to policy or funding changes.\n",
    "\n",
    "-2019-2022 Stagnation: Minimal growth (~5,000 facilities annually), indicating a slowdown.\n",
    "\n",
    "-2023-2024 Surge: Rapid recovery, reaching ~25,000 facilities in 2024.\n",
    "\n",
    "This reflects initial enthusiasm, followed by stagnation and renewed growth in recent years. External factors like policies and technology likely influenced these trends."
   ]
  },
  {
   "cell_type": "markdown",
   "metadata": {},
   "source": [
    "### Plotting the locations on a World Map for better analysis"
   ]
  },
  {
   "cell_type": "code",
   "execution_count": null,
   "metadata": {},
   "outputs": [],
   "source": [
    "plt.figure(figsize=(12, 6))\n",
    "ax = plt.axes(projection=ccrs.PlateCarree())\n",
    "\n",
    "# Add land and ocean features\n",
    "ax.add_feature(cfeature.LAND, facecolor=\"lightgray\")\n",
    "ax.add_feature(cfeature.OCEAN, facecolor=\"lightblue\")\n",
    "ax.add_feature(cfeature.BORDERS, linestyle=\":\")\n",
    "\n",
    "# Plot latitude vs longitude\n",
    "ax.scatter(df[\"longitude\"], df[\"latitude\"], transform=ccrs.PlateCarree(), color=\"red\", s=10)\n",
    "\n",
    "plt.title(\"World Map: Latitude vs. Longitude\")\n",
    "plt.show()"
   ]
  },
  {
   "cell_type": "markdown",
   "metadata": {},
   "source": [
    "Based on the world map scatter plot, areas with minimal or no coverage include:\n",
    "\n",
    "Polar regions (Arctic and Antarctic)\n",
    "\n",
    "Central Asia (parts of Kazakhstan, Mongolia)\n",
    "\n",
    "Sahara Desert\n",
    "\n",
    "Central Australia (Outback)\n",
    "\n",
    "Amazon Rainforest interior\n",
    "\n",
    "Northern Siberia\n",
    "\n",
    "Greenland\n",
    "\n",
    "Remote Pacific Ocean regions\n",
    "\n",
    "Southern Ocean\n",
    "\n",
    "Himalayan mountain range\n",
    "\n",
    "These uncovered areas generally correspond to regions with extreme climates, very low population density, or challenging geographical features.\n",
    "\n",
    "Related\n",
    "Which regions are hardest to predict\n",
    "How do climate patterns affect forecasting\n",
    "What makes urban vs. rural forecasting different\n",
    "How can historical data improve forecasting models\n",
    "How does population density affect trend forecasting\n"
   ]
  },
  {
   "cell_type": "code",
   "execution_count": null,
   "metadata": {},
   "outputs": [],
   "source": [
    "# Calculate correlation on numeric columns\n",
    "corr = df.select_dtypes(include=[np.number]).corr()\n",
    "\n",
    "fig, ax = plt.subplots(figsize=(10, 8))\n",
    "im = ax.imshow(corr, cmap=\"coolwarm\", aspect=\"equal\")\n",
    "\n",
    "# Add colorbar\n",
    "cbar = plt.colorbar(im)\n",
    "cbar.set_label(\"Correlation\")\n",
    "\n",
    "# Label the axes with column names\n",
    "ticks = np.arange(len(corr.columns))\n",
    "ax.set_xticks(ticks)\n",
    "ax.set_yticks(ticks)\n",
    "ax.set_xticklabels(corr.columns, rotation=45, ha=\"right\")\n",
    "ax.set_yticklabels(corr.columns)\n",
    "\n",
    "# Optionally add text with correlation values\n",
    "for i in range(len(corr.columns)):\n",
    "    for j in range(len(corr.columns)):\n",
    "        ax.text(j, i, f\"{corr.iloc[i, j]:.2f}\", ha=\"center\", va=\"center\", color=\"black\")\n",
    "\n",
    "plt.title(\"Correlation Heatmap (Matplotlib)\")\n",
    "plt.tight_layout()\n",
    "plt.show()"
   ]
  },
  {
   "cell_type": "code",
   "execution_count": null,
   "metadata": {},
   "outputs": [],
   "source": []
  }
 ],
 "metadata": {
  "kernelspec": {
   "display_name": "quartz-project",
   "language": "python",
   "name": "python3"
  },
  "language_info": {
   "codemirror_mode": {
    "name": "ipython",
    "version": 3
   },
   "file_extension": ".py",
   "mimetype": "text/x-python",
   "name": "python",
   "nbconvert_exporter": "python",
   "pygments_lexer": "ipython3",
   "version": "3.11.0"
  }
 },
 "nbformat": 4,
 "nbformat_minor": 2
}
